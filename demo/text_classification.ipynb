{
 "cells": [
  {
   "cell_type": "markdown",
   "id": "47b734db",
   "metadata": {},
   "source": [
    "# Text Classification with GNN"
   ]
  },
  {
   "cell_type": "code",
   "execution_count": 1,
   "id": "f263101c",
   "metadata": {},
   "outputs": [
    {
     "data": {
      "text/plain": [
       "('0.14.0', '0.5.0', '0.9.1', '1.13.0', '1.26.0')"
      ]
     },
     "execution_count": 1,
     "metadata": {},
     "output_type": "execute_result"
    }
   ],
   "source": [
    "import torchtext\n",
    "import torchdata\n",
    "import dgl\n",
    "import torch\n",
    "import numpy\n",
    "torchtext.__version__, torchdata.__version__, dgl.__version__, torch.__version__, numpy.__version__"
   ]
  },
  {
   "cell_type": "markdown",
   "id": "f96e35d0",
   "metadata": {},
   "source": [
    "### Introduction"
   ]
  },
  {
   "cell_type": "markdown",
   "id": "eac8bf6a",
   "metadata": {},
   "source": [
    "In this tutorial demo, we will use the Graph4NLP library to build a GNN-based text classification model. The model consists of \n",
    "- graph construction module (e.g., dependency based static graph)\n",
    "- graph embedding module (e.g., Bi-Fuse GraphSAGE)\n",
    "- prediction module (e.g., graph pooling + MLP classifier)\n",
    "\n",
    "We will use the built-in module APIs to build the model, and evaluate it on the TREC dataset."
   ]
  },
  {
   "cell_type": "markdown",
   "id": "ca2c5d99",
   "metadata": {},
   "source": [
    "### Environment setup"
   ]
  },
  {
   "cell_type": "code",
   "execution_count": 2,
   "id": "bda5531b",
   "metadata": {},
   "outputs": [],
   "source": [
    "import argparse\n",
    "import os\n",
    "import time\n",
    "import datetime\n",
    "import numpy as np\n",
    "import torch\n",
    "import torch.backends.cudnn as cudnn\n",
    "import torch.multiprocessing\n",
    "import torch.nn as nn\n",
    "import torch.nn.functional as F\n",
    "import torch.optim as optim\n",
    "import yaml\n",
    "from torch.optim.lr_scheduler import ReduceLROnPlateau\n",
    "from torch.utils.data import DataLoader\n",
    "import dgl\n",
    "\n",
    "from graph4nlp.pytorch.datasets.trec import TrecDataset\n",
    "from graph4nlp.pytorch.data.data import from_batch\n",
    "from graph4nlp.pytorch.modules.evaluation.accuracy import Accuracy\n",
    "from graph4nlp.pytorch.modules.graph_construction import (\n",
    "    NodeEmbeddingBasedGraphConstruction,\n",
    "    NodeEmbeddingBasedRefinedGraphConstruction,\n",
    ")\n",
    "from graph4nlp.pytorch.modules.graph_embedding_initialization.embedding_construction import (\n",
    "    WordEmbedding,\n",
    ")\n",
    "from graph4nlp.pytorch.modules.graph_embedding_initialization.graph_embedding_initialization import (  # noqa\n",
    "    GraphEmbeddingInitialization,\n",
    ")\n",
    "from graph4nlp.pytorch.modules.graph_embedding_learning import GAT, GGNN, GraphSAGE\n",
    "from graph4nlp.pytorch.modules.loss.general_loss import GeneralLoss\n",
    "from graph4nlp.pytorch.modules.prediction.classification.graph_classification import FeedForwardNN\n",
    "from graph4nlp.pytorch.modules.utils import constants as Constants\n",
    "from graph4nlp.pytorch.modules.utils.generic_utils import EarlyStopping, grid, to_cuda\n",
    "from graph4nlp.pytorch.modules.utils.logger import Logger\n",
    "\n",
    "import networkx as nx"
   ]
  },
  {
   "cell_type": "markdown",
   "id": "0e34f1da",
   "metadata": {},
   "source": [
    "### Build the text classifier"
   ]
  },
  {
   "cell_type": "code",
   "execution_count": 3,
   "id": "564d3d24",
   "metadata": {},
   "outputs": [
    {
     "name": "stdout",
     "output_type": "stream",
     "text": [
      "Loading pre-built label mappings stored in ../data/trec/processed/dependency_graph/label.pt\n"
     ]
    },
    {
     "name": "stderr",
     "output_type": "stream",
     "text": [
      "/Users/vitaliypozdnyakov/miniconda3/envs/text2graph/lib/python3.10/site-packages/sklearn/base.py:376: InconsistentVersionWarning: Trying to unpickle estimator LabelEncoder from version 1.0.2 when using version 1.5.2. This might lead to breaking code or invalid results. Use at your own risk. For more info please refer to:\n",
      "https://scikit-learn.org/stable/model_persistence.html#security-maintainability-limitations\n",
      "  warnings.warn(\n"
     ]
    }
   ],
   "source": [
    "dataset = TrecDataset(\n",
    "    root_dir='../data/trec',\n",
    "    topology_subdir='dependency_graph',\n",
    "    graph_name='dependency',\n",
    "    pretrained_word_emb_name='840B',\n",
    "    merge_strategy='tailhead',\n",
    "    edge_strategy='homogeneous',\n",
    "    word_emb_size=300,\n",
    "    seed=1234,\n",
    "    reused_label_model=None,\n",
    ")"
   ]
  },
  {
   "cell_type": "markdown",
   "id": "bebae969",
   "metadata": {},
   "source": [
    "The Text REtrieval Conference (TREC) Question Classification dataset contains 5500 labeled questions in training set and another 500 for test set.\n",
    "\n",
    "The dataset has 6 coarse class labels and 50 fine class labels. Average length of each sentence is 10, vocabulary size of 8700.\n",
    "\n",
    "Data are collected from four sources: 4,500 English questions published by USC (Hovy et al., 2001), about 500 manually constructed questions for a few rare classes, 894 TREC 8 and TREC 9 questions, and also 500 questions from TREC 10 which serves as the test set. These questions were manually labeled.\n",
    "\n",
    "Coarse class label. Possible values are:\n",
    "* 'ABBR' (0): Abbreviation.\n",
    "* 'ENTY' (1): Entity.\n",
    "* 'DESC' (2): Description and abstract concept.\n",
    "* 'HUM' (3): Human being.\n",
    "* 'LOC' (4): Location.\n",
    "* 'NUM' (5): Numeric value."
   ]
  },
  {
   "cell_type": "code",
   "execution_count": 4,
   "id": "22164776",
   "metadata": {},
   "outputs": [],
   "source": [
    "train_dataloader = DataLoader(\n",
    "    dataset.train,\n",
    "    batch_size=50,\n",
    "    shuffle=True,\n",
    "    collate_fn=dataset.collate_fn,\n",
    ")\n",
    "val_dataloader = DataLoader(\n",
    "    dataset.test[250:],\n",
    "    batch_size=50,\n",
    "    shuffle=False,\n",
    "    collate_fn=dataset.collate_fn,\n",
    ")\n",
    "test_dataloader = DataLoader(\n",
    "    dataset.test[:250],\n",
    "    batch_size=50,\n",
    "    shuffle=False,\n",
    "    collate_fn=dataset.collate_fn,\n",
    ")"
   ]
  },
  {
   "cell_type": "code",
   "execution_count": 65,
   "id": "9278610a",
   "metadata": {},
   "outputs": [
    {
     "data": {
      "text/plain": [
       "'What is considered the costliest disaster the insurance industry has ever faced ?'"
      ]
     },
     "execution_count": 65,
     "metadata": {},
     "output_type": "execute_result"
    }
   ],
   "source": [
    "data_item = train_dataloader.dataset[14]\n",
    "\n",
    "data_item.input_text"
   ]
  },
  {
   "cell_type": "code",
   "execution_count": 66,
   "id": "7b7b3dc0",
   "metadata": {},
   "outputs": [
    {
     "data": {
      "text/plain": [
       "'ENTY'"
      ]
     },
     "execution_count": 66,
     "metadata": {},
     "output_type": "execute_result"
    }
   ],
   "source": [
    "data_item.output_label"
   ]
  },
  {
   "cell_type": "code",
   "execution_count": 67,
   "id": "f36e0d8b",
   "metadata": {},
   "outputs": [
    {
     "data": {
      "text/plain": [
       "{'node_attr': None,\n",
       " 'type': 0,\n",
       " 'token': 'What',\n",
       " 'position_id': 0,\n",
       " 'sentence_id': 0,\n",
       " 'head': True,\n",
       " 'tail': False,\n",
       " 'token_id': 14}"
      ]
     },
     "execution_count": 67,
     "metadata": {},
     "output_type": "execute_result"
    }
   ],
   "source": [
    "graph = data_item.graph\n",
    "graph.get_node_attrs(0)"
   ]
  },
  {
   "cell_type": "code",
   "execution_count": 68,
   "id": "76813fdb",
   "metadata": {},
   "outputs": [
    {
     "data": {
      "text/plain": [
       "['What',\n",
       " 'is',\n",
       " 'considered',\n",
       " 'the',\n",
       " 'costliest',\n",
       " 'disaster',\n",
       " 'the',\n",
       " 'insurance',\n",
       " 'industry',\n",
       " 'has',\n",
       " 'ever',\n",
       " 'faced',\n",
       " '?']"
      ]
     },
     "execution_count": 68,
     "metadata": {},
     "output_type": "execute_result"
    }
   ],
   "source": [
    "[graph.get_node_attrs(i)['token'] for i in range(len(graph.nodes))]"
   ]
  },
  {
   "cell_type": "code",
   "execution_count": 69,
   "id": "05fa59f4",
   "metadata": {},
   "outputs": [
    {
     "data": {
      "text/plain": [
       "[14, 38, 85, 17, 86, 87, 17, 88, 89, 90, 91, 92, 13]"
      ]
     },
     "execution_count": 69,
     "metadata": {},
     "output_type": "execute_result"
    }
   ],
   "source": [
    "[graph.get_node_attrs(i)['token_id'] for i in range(len(graph.nodes))]"
   ]
  },
  {
   "cell_type": "code",
   "execution_count": 70,
   "id": "77bb2c94",
   "metadata": {},
   "outputs": [
    {
     "data": {
      "text/plain": [
       "[True,\n",
       " False,\n",
       " False,\n",
       " False,\n",
       " False,\n",
       " False,\n",
       " False,\n",
       " False,\n",
       " False,\n",
       " False,\n",
       " False,\n",
       " False,\n",
       " False]"
      ]
     },
     "execution_count": 70,
     "metadata": {},
     "output_type": "execute_result"
    }
   ],
   "source": [
    "[graph.get_node_attrs(i)['head'] for i in range(len(graph.nodes))]"
   ]
  },
  {
   "cell_type": "code",
   "execution_count": 71,
   "id": "bcb6d38b",
   "metadata": {},
   "outputs": [
    {
     "data": {
      "text/plain": [
       "[False,\n",
       " False,\n",
       " False,\n",
       " False,\n",
       " False,\n",
       " False,\n",
       " False,\n",
       " False,\n",
       " False,\n",
       " False,\n",
       " False,\n",
       " False,\n",
       " True]"
      ]
     },
     "execution_count": 71,
     "metadata": {},
     "output_type": "execute_result"
    }
   ],
   "source": [
    "[graph.get_node_attrs(i)['tail'] for i in range(len(graph.nodes))]"
   ]
  },
  {
   "cell_type": "code",
   "execution_count": 72,
   "id": "fa70d5ad",
   "metadata": {},
   "outputs": [
    {
     "data": {
      "text/plain": [
       "{'node_feat': None, 'node_emb': None, 'token_id': tensor([14])}"
      ]
     },
     "execution_count": 72,
     "metadata": {},
     "output_type": "execute_result"
    }
   ],
   "source": [
    "graph.get_node_features(0)"
   ]
  },
  {
   "cell_type": "code",
   "execution_count": 73,
   "id": "03909195",
   "metadata": {},
   "outputs": [
    {
     "data": {
      "text/plain": [
       "{'edge_feat': None, 'edge_emb': None, 'edge_weight': None}"
      ]
     },
     "execution_count": 73,
     "metadata": {},
     "output_type": "execute_result"
    }
   ],
   "source": [
    "graph.get_edge_feature((0, 1))"
   ]
  },
  {
   "cell_type": "code",
   "execution_count": 79,
   "id": "b9dcbb44",
   "metadata": {},
   "outputs": [
    {
     "data": {
      "text/plain": [
       "[(2, 0),\n",
       " (2, 1),\n",
       " (5, 3),\n",
       " (5, 4),\n",
       " (2, 5),\n",
       " (8, 6),\n",
       " (8, 7),\n",
       " (11, 8),\n",
       " (11, 9),\n",
       " (11, 10),\n",
       " (5, 11),\n",
       " (2, 12)]"
      ]
     },
     "execution_count": 79,
     "metadata": {},
     "output_type": "execute_result"
    }
   ],
   "source": [
    "graph.get_all_edges()"
   ]
  },
  {
   "cell_type": "code",
   "execution_count": 82,
   "id": "27b725c9",
   "metadata": {},
   "outputs": [
    {
     "data": {
      "image/png": "[encoded data removed]",
      "text/plain": [
       "<Figure size 640x480 with 1 Axes>"
      ]
     },
     "metadata": {},
     "output_type": "display_data"
    }
   ],
   "source": [
    "G = nx.from_edgelist(graph.get_all_edges(), create_using=nx.DiGraph)\n",
    "#G = nx.relabel_nodes(G, )\n",
    "nx.draw_networkx(\n",
    "    G, \n",
    "    labels={i: graph.get_node_attrs(i)['token'] for i in range(len(graph.nodes))}\n",
    ")"
   ]
  },
  {
   "cell_type": "markdown",
   "id": "0fc97aec",
   "metadata": {},
   "source": [
    "Let's first build the GNN-based text classifier which contains three major components including graph construction module, graph embedding module and graph prediction module. \n",
    "\n",
    "For graph construction module, the Graph4NLP library provides built-in APIs to support both static graph construction methods (e.g., `dependency graph`, `constituency graph`, `IE graph`) and dynamic graph construction methods (e.g., `node embedding based graph`, `node embedding based refined graph`). When calling the graph construction API, users should also specify the `embedding style` (e.g., word2vec, BiLSTM, BERT) to initialize the node/edge embeddings. Both single-token and multi-token node/edge graphs are supported.\n",
    "\n",
    "For graph embedding module, the Graph4NLP library provides builti-in APIs to support both `undirectional` and `bidirectinal` versions for common GNNs such as `GCN`, `GraphSAGE`, `GAT` and `GGNN`. \n",
    "\n",
    "For graph prediction module, the Graph4NLP library provides a high-level graph classification prediction module which consists of a graph pooling component (e.g., average pooling, max pooling) and a multilayer perceptron (MLP)."
   ]
  },
  {
   "cell_type": "code",
   "execution_count": 83,
   "id": "0e901d43",
   "metadata": {},
   "outputs": [
    {
     "data": {
      "text/plain": [
       "{'dataset': 'trec',\n",
       " 'val_split_ratio': 0.2,\n",
       " 'pretrained_word_emb_name': '840B',\n",
       " 'out_dir': 'out/trec/graphsage_bi_fuse_dependency_ckpt',\n",
       " 'graph_construction_args': {'graph_construction_share': {'graph_name': 'dependency',\n",
       "   'root_dir': '../data/trec',\n",
       "   'thread_number': 10,\n",
       "   'port': 9000,\n",
       "   'timeout': 15000},\n",
       "  'graph_construction_private': {'edge_strategy': 'homogeneous',\n",
       "   'merge_strategy': 'tailhead',\n",
       "   'sequential_link': True,\n",
       "   'as_node': False,\n",
       "   'dynamic_init_graph_name': None}},\n",
       " 'gl_metric_type': None,\n",
       " 'gl_epsilon': None,\n",
       " 'gl_top_k': None,\n",
       " 'gl_num_heads': 1,\n",
       " 'gl_num_hidden': 300,\n",
       " 'gl_smoothness_ratio': None,\n",
       " 'gl_sparsity_ratio': None,\n",
       " 'gl_connectivity_ratio': None,\n",
       " 'init_adj_alpha': None,\n",
       " 'word_dropout': 0.4,\n",
       " 'rnn_dropout': 0.1,\n",
       " 'no_fix_word_emb': False,\n",
       " 'emb_strategy': 'w2v_bilstm',\n",
       " 'gnn': 'graphsage',\n",
       " 'gnn_direction_option': 'bi_fuse',\n",
       " 'gnn_num_layers': 1,\n",
       " 'num_hidden': 300,\n",
       " 'graph_pooling': 'avg_pool',\n",
       " 'max_pool_linear_proj': False,\n",
       " 'gnn_dropout': 0.4,\n",
       " 'gat_attn_dropout': None,\n",
       " 'gat_negative_slope': None,\n",
       " 'gat_num_heads': None,\n",
       " 'gat_num_out_heads': None,\n",
       " 'gat_residual': False,\n",
       " 'graphsage_aggreagte_type': 'lstm',\n",
       " 'seed': 1234,\n",
       " 'batch_size': 50,\n",
       " 'epochs': 10,\n",
       " 'patience': 10,\n",
       " 'lr': 0.001,\n",
       " 'lr_patience': 2,\n",
       " 'lr_reduce_factor': 0.5,\n",
       " 'num_workers': 0,\n",
       " 'gpu': -1,\n",
       " 'no_cuda': False}"
      ]
     },
     "execution_count": 83,
     "metadata": {},
     "output_type": "execute_result"
    }
   ],
   "source": [
    "config_file = '../config/trec/graphsage_bi_fuse_static_dependency_v2.yaml'\n",
    "config = yaml.load(open(config_file, 'r'), Loader=yaml.FullLoader)\n",
    "config['epochs'] = 10\n",
    "config"
   ]
  },
  {
   "cell_type": "code",
   "execution_count": 86,
   "id": "70ca51c8",
   "metadata": {},
   "outputs": [],
   "source": [
    "class TextClassifier(nn.Module):\n",
    "    def __init__(self, vocab, label_model, config):\n",
    "        super(TextClassifier, self).__init__()\n",
    "        self.config = config\n",
    "        self.vocab_model = vocab\n",
    "        self.label_model = label_model\n",
    "        self.graph_name = 'dependency'\n",
    "        hidden_dim = 300\n",
    "        \n",
    "        embedding_style = {\n",
    "            \"single_token_item\": True if self.graph_name != \"ie\" else False,\n",
    "            \"emb_strategy\": \"w2v_bilstm\",\n",
    "            \"num_rnn_layers\": 1,\n",
    "            \"bert_model_name\": \"bert-base-uncased\",\n",
    "            \"bert_lower_case\": True,\n",
    "        }\n",
    "\n",
    "        self.graph_initializer = GraphEmbeddingInitialization(\n",
    "            word_vocab=self.vocab_model.in_word_vocab,\n",
    "            embedding_style=embedding_style,\n",
    "            hidden_size=config[\"num_hidden\"],\n",
    "            word_dropout=config[\"word_dropout\"],\n",
    "            rnn_dropout=config[\"rnn_dropout\"],\n",
    "            fix_word_emb=not config[\"no_fix_word_emb\"],\n",
    "            fix_bert_emb=not config.get(\"no_fix_bert_emb\", False),\n",
    "        )\n",
    "\n",
    "        use_edge_weight = False\n",
    "\n",
    "        self.word_emb = self.graph_initializer.embedding_layer.word_emb_layers[\n",
    "            \"w2v\"\n",
    "        ].word_emb_layer\n",
    "        \n",
    "        self.gnn = GraphSAGE(\n",
    "            config[\"gnn_num_layers\"],\n",
    "            config[\"num_hidden\"],\n",
    "            config[\"num_hidden\"],\n",
    "            config[\"num_hidden\"],\n",
    "            config[\"graphsage_aggreagte_type\"],\n",
    "            direction_option=config[\"gnn_direction_option\"],\n",
    "            feat_drop=config[\"gnn_dropout\"],\n",
    "            bias=True,\n",
    "            norm=None,\n",
    "            activation=F.relu,\n",
    "            use_edge_weight=use_edge_weight,\n",
    "        )\n",
    "        self.clf = FeedForwardNN(\n",
    "            config[\"num_hidden\"],\n",
    "            label_model.num_classes,\n",
    "            [config[\"num_hidden\"]],\n",
    "            graph_pool_type=config[\"graph_pooling\"],\n",
    "            dim=config[\"num_hidden\"],\n",
    "            use_linear_proj=config[\"max_pool_linear_proj\"],\n",
    "        )\n",
    "\n",
    "        self.loss = GeneralLoss(\"CrossEntropy\")\n",
    "\n",
    "    def forward(self, graph_list, tgt=None, require_loss=True):\n",
    "        # graph embedding initialization\n",
    "        batch_gd = self.graph_initializer(graph_list)\n",
    "\n",
    "        # run GNN\n",
    "        self.gnn(batch_gd)\n",
    "\n",
    "        # run graph classifier\n",
    "        self.clf(batch_gd)\n",
    "        logits = batch_gd.graph_attributes[\"logits\"]\n",
    "\n",
    "        if require_loss:\n",
    "            loss = self.loss(logits, tgt)\n",
    "            return logits, loss\n",
    "        else:\n",
    "            return logits\n",
    "\n",
    "    def inference_forward(self, collate_data):\n",
    "        return self.forward(collate_data[\"graph_data\"], require_loss=False)\n",
    "\n",
    "    def post_process(self, logits, label_names):\n",
    "        logits_list = []\n",
    "\n",
    "        for idx in range(len(logits)):\n",
    "            logits_list.append(logits[idx].cpu().clone().numpy())\n",
    "\n",
    "        pred_tags = [label_names[pred.argmax()] for pred in logits_list]\n",
    "        return pred_tags\n",
    "\n",
    "    @classmethod\n",
    "    def load_checkpoint(cls, model_path):\n",
    "        \"\"\"The API to load the model.\n",
    "\n",
    "        Parameters\n",
    "        ----------\n",
    "        model_path : str\n",
    "            The saved model path.\n",
    "\n",
    "        Returns\n",
    "        -------\n",
    "        Class\n",
    "        \"\"\"\n",
    "        return torch.load(model_path)"
   ]
  },
  {
   "cell_type": "code",
   "execution_count": 93,
   "id": "869d2fc1",
   "metadata": {},
   "outputs": [
    {
     "name": "stdout",
     "output_type": "stream",
     "text": [
      "[ Fix word embeddings ]\n"
     ]
    },
    {
     "data": {
      "text/plain": [
       "tensor([0, 0, 1, 0, 0, 0, 1, 0, 0, 0, 0, 0, 0, 0, 0, 0, 0, 0, 0, 0, 0, 1, 0, 1,\n",
       "        0, 0, 0, 0, 0, 0, 0, 4, 0, 0, 0, 0, 0, 0, 0, 0, 0, 0, 0, 0, 0, 0, 0, 0,\n",
       "        0, 0])"
      ]
     },
     "execution_count": 93,
     "metadata": {},
     "output_type": "execute_result"
    }
   ],
   "source": [
    "for batch in test_dataloader:\n",
    "    break\n",
    "model = TextClassifier(dataset.vocab_model, dataset.label_model, config)\n",
    "logits = model.inference_forward(batch)\n",
    "#torch.softmax(logits, dim=1)\n",
    "pred = logits.argmax(1)\n",
    "pred"
   ]
  },
  {
   "cell_type": "code",
   "execution_count": 94,
   "id": "d1f5629e",
   "metadata": {},
   "outputs": [
    {
     "data": {
      "text/plain": [
       "tensor([5, 4, 3, 1, 5, 5, 3, 2, 1, 1, 4, 3, 5, 3, 5, 5, 2, 3, 1, 5, 3, 1, 4, 1,\n",
       "        1, 3, 1, 4, 4, 4, 5, 4, 1, 5, 5, 5, 4, 5, 5, 5, 2, 1, 1, 1, 2, 2, 5, 1,\n",
       "        5, 3])"
      ]
     },
     "execution_count": 94,
     "metadata": {},
     "output_type": "execute_result"
    }
   ],
   "source": [
    "batch['tgt_tensor']"
   ]
  },
  {
   "cell_type": "code",
   "execution_count": 95,
   "id": "2023b2c7",
   "metadata": {},
   "outputs": [
    {
     "data": {
      "text/plain": [
       "tensor(0.0600)"
      ]
     },
     "execution_count": 95,
     "metadata": {},
     "output_type": "execute_result"
    }
   ],
   "source": [
    "sum(pred == batch['tgt_tensor']) / len(pred)"
   ]
  },
  {
   "cell_type": "markdown",
   "id": "80ed5785",
   "metadata": {},
   "source": [
    "### Build the model handler"
   ]
  },
  {
   "cell_type": "markdown",
   "id": "ff9351d6",
   "metadata": {},
   "source": [
    "Next, let's build a model handler which will do a bunch of things including setting up dataloader, model, optimizer, evaluation metrics, train/val/test loops, and so on.\n",
    "\n",
    "When setting up the dataloader, users will need to call the dataset API which will preprocess the data, e.g., calling the graph construction module, building the vocabulary, tensorizing the data. Users will need to specify the graph construction type when calling the dataset API.\n",
    "\n",
    "Users can build their customized dataset APIs by inheriting our low-level dataset APIs. We provide low-level dataset APIs to support various scenarios (e.g., `Text2Label`, `Sequence2Labeling`, `Text2Text`, `Text2Tree`, `DoubleText2Text`)."
   ]
  },
  {
   "cell_type": "code",
   "execution_count": 96,
   "id": "e7cb9234",
   "metadata": {},
   "outputs": [],
   "source": [
    "class ModelHandler:\n",
    "    def __init__(self, dataset, train_dataloader, val_dataloader, test_dataloader, config):\n",
    "        super(ModelHandler, self).__init__()\n",
    "        self.model = model\n",
    "        self.config = config\n",
    "        self.train_dataloader = train_dataloader\n",
    "        self.val_dataloader = val_dataloader\n",
    "        self.test_dataloader = test_dataloader\n",
    "        \n",
    "        self.graph_name = 'dependency'\n",
    "        self.vocab_model = dataset.vocab_model\n",
    "        self.label_model = dataset.label_model\n",
    "        self.config[\"num_classes\"] = self.label_model.num_classes\n",
    "        self.num_train = len(dataset.train)\n",
    "        self.num_val = len(dataset.test) / 2\n",
    "        self.num_test = len(dataset.test) / 2\n",
    "        \n",
    "        self.logger = Logger(\n",
    "            self.config[\"out_dir\"],\n",
    "            config={k: v for k, v in self.config.items() if k != \"device\"},\n",
    "            overwrite=True,\n",
    "        )\n",
    "        self.logger.write(self.config[\"out_dir\"])\n",
    "        self._build_optimizer()\n",
    "        self._build_evaluation()\n",
    "\n",
    "    def _build_optimizer(self):\n",
    "        parameters = [p for p in self.model.parameters() if p.requires_grad]\n",
    "        self.optimizer = optim.Adam(parameters, lr=self.config[\"lr\"])\n",
    "        self.stopper = EarlyStopping(\n",
    "            os.path.join(\n",
    "                self.config[\"out_dir\"],\n",
    "                self.config.get(\"model_ckpt_name\", Constants._SAVED_WEIGHTS_FILE),\n",
    "            ),\n",
    "            patience=self.config[\"patience\"],\n",
    "        )\n",
    "        self.scheduler = ReduceLROnPlateau(\n",
    "            self.optimizer,\n",
    "            mode=\"max\",\n",
    "            factor=self.config[\"lr_reduce_factor\"],\n",
    "            patience=self.config[\"lr_patience\"],\n",
    "            verbose=True,\n",
    "        )\n",
    "\n",
    "    def _build_evaluation(self):\n",
    "        self.metric = Accuracy([\"accuracy\"])\n",
    "\n",
    "    def train(self):\n",
    "        dur = []\n",
    "        for epoch in range(self.config[\"epochs\"]):\n",
    "            self.model.train()\n",
    "            train_loss = []\n",
    "            train_acc = []\n",
    "            t0 = time.time()\n",
    "            for data in self.train_dataloader:\n",
    "                tgt = to_cuda(data[\"tgt_tensor\"], self.config[\"device\"])\n",
    "                data[\"graph_data\"] = data[\"graph_data\"].to(self.config[\"device\"])\n",
    "                logits, loss = self.model(data[\"graph_data\"], tgt, require_loss=True)\n",
    "\n",
    "                # add graph regularization loss if available\n",
    "                if data[\"graph_data\"].graph_attributes.get(\"graph_reg\", None) is not None:\n",
    "                    loss = loss + data[\"graph_data\"].graph_attributes[\"graph_reg\"]\n",
    "\n",
    "                self.optimizer.zero_grad()\n",
    "                loss.backward()\n",
    "                self.optimizer.step()\n",
    "                train_loss.append(loss.item())\n",
    "\n",
    "                pred = torch.max(logits, dim=-1)[1].cpu()\n",
    "                train_acc.append(\n",
    "                    self.metric.calculate_scores(ground_truth=tgt.cpu(), predict=pred.cpu())[0]\n",
    "                )\n",
    "                dur.append(time.time() - t0)\n",
    "\n",
    "            val_acc = self.evaluate(self.val_dataloader)\n",
    "            self.scheduler.step(val_acc)\n",
    "            print(\n",
    "                \"Epoch: [{} / {}] | Time: {:.2f}s | Loss: {:.4f} |\"\n",
    "                \"Train Acc: {:.4f} | Val Acc: {:.4f}\".format(\n",
    "                    epoch + 1,\n",
    "                    self.config[\"epochs\"],\n",
    "                    np.mean(dur),\n",
    "                    np.mean(train_loss),\n",
    "                    np.mean(train_acc),\n",
    "                    val_acc,\n",
    "                )\n",
    "            )\n",
    "            self.logger.write(\n",
    "                \"Epoch: [{} / {}] | Time: {:.2f}s | Loss: {:.4f} |\"\n",
    "                \"Train Acc: {:.4f} | Val Acc: {:.4f}\".format(\n",
    "                    epoch + 1,\n",
    "                    self.config[\"epochs\"],\n",
    "                    np.mean(dur),\n",
    "                    np.mean(train_loss),\n",
    "                    np.mean(train_acc),\n",
    "                    val_acc,\n",
    "                )\n",
    "            )\n",
    "\n",
    "            if self.stopper.step(val_acc, self.model):\n",
    "                break\n",
    "\n",
    "        return self.stopper.best_score\n",
    "\n",
    "    def evaluate(self, dataloader):\n",
    "        self.model.eval()\n",
    "        with torch.no_grad():\n",
    "            pred_collect = []\n",
    "            gt_collect = []\n",
    "            for data in dataloader:\n",
    "                tgt = to_cuda(data[\"tgt_tensor\"], self.config[\"device\"])\n",
    "                data[\"graph_data\"] = data[\"graph_data\"].to(self.config[\"device\"])\n",
    "                logits = self.model(data[\"graph_data\"], require_loss=False)\n",
    "                pred_collect.append(logits)\n",
    "                gt_collect.append(tgt)\n",
    "\n",
    "            pred_collect = torch.max(torch.cat(pred_collect, 0), dim=-1)[1].cpu()\n",
    "            gt_collect = torch.cat(gt_collect, 0).cpu()\n",
    "            score = self.metric.calculate_scores(ground_truth=gt_collect, predict=pred_collect)[0]\n",
    "\n",
    "            return score\n",
    "\n",
    "    def test(self):\n",
    "        # restored best saved model\n",
    "        self.model = TextClassifier.load_checkpoint(self.stopper.save_model_path)\n",
    "\n",
    "        t0 = time.time()\n",
    "        acc = self.evaluate(self.test_dataloader)\n",
    "        dur = time.time() - t0\n",
    "        print(\n",
    "            \"Test examples: {} | Time: {:.2f}s |  Test Acc: {:.4f}\".format(self.num_test, dur, acc)\n",
    "        )\n",
    "        self.logger.write(\n",
    "            \"Test examples: {} | Time: {:.2f}s |  Test Acc: {:.4f}\".format(self.num_test, dur, acc)\n",
    "        )\n",
    "\n",
    "        return acc"
   ]
  },
  {
   "cell_type": "markdown",
   "id": "db7b2180",
   "metadata": {},
   "source": [
    "### Run the model"
   ]
  },
  {
   "cell_type": "code",
   "execution_count": 97,
   "id": "414031ac",
   "metadata": {
    "scrolled": false
   },
   "outputs": [],
   "source": [
    "# run model\n",
    "np.random.seed(config['seed'])\n",
    "torch.manual_seed(config['seed'])\n",
    "\n",
    "config[\"device\"] = torch.device(\"cpu\")\n",
    "\n",
    "ts = datetime.datetime.now().timestamp()\n",
    "config['out_dir'] += '_{}'.format(ts)\n",
    "\n",
    "runner = ModelHandler(dataset, train_dataloader, val_dataloader, test_dataloader, config)"
   ]
  },
  {
   "cell_type": "code",
   "execution_count": 98,
   "id": "f2de6b78",
   "metadata": {},
   "outputs": [
    {
     "name": "stderr",
     "output_type": "stream",
     "text": [
      "/Users/vitaliypozdnyakov/miniconda3/envs/text2graph/lib/python3.10/site-packages/graph4nlp/pytorch/modules/evaluation/accuracy.py:157: UserWarning: zero division encountered\n",
      "  warnings.warn(\"zero division encountered\")\n"
     ]
    },
    {
     "name": "stdout",
     "output_type": "stream",
     "text": [
      "Epoch: [1 / 10] | Time: 3.72s | Loss: 1.1985 |Train Acc: 0.5215 | Val Acc: 0.8000\n",
      "Saved model to out/trec/graphsage_bi_fuse_dependency_ckpt_1729184049.976415/params.saved\n",
      "Epoch: [2 / 10] | Time: 3.72s | Loss: 0.6682 |Train Acc: 0.7549 | Val Acc: 0.8200\n",
      "Saved model to out/trec/graphsage_bi_fuse_dependency_ckpt_1729184049.976415/params.saved\n",
      "Epoch: [3 / 10] | Time: 3.71s | Loss: 0.5162 |Train Acc: 0.8129 | Val Acc: 0.8840\n",
      "Saved model to out/trec/graphsage_bi_fuse_dependency_ckpt_1729184049.976415/params.saved\n",
      "Epoch: [4 / 10] | Time: 3.70s | Loss: 0.4277 |Train Acc: 0.8467 | Val Acc: 0.8560\n",
      "EarlyStopping counter: 1 out of 10\n",
      "Epoch: [5 / 10] | Time: 3.70s | Loss: 0.3823 |Train Acc: 0.8642 | Val Acc: 0.9240\n",
      "Saved model to out/trec/graphsage_bi_fuse_dependency_ckpt_1729184049.976415/params.saved\n",
      "Epoch: [6 / 10] | Time: 3.70s | Loss: 0.3188 |Train Acc: 0.8864 | Val Acc: 0.8680\n",
      "EarlyStopping counter: 1 out of 10\n",
      "Epoch: [7 / 10] | Time: 3.70s | Loss: 0.2914 |Train Acc: 0.8938 | Val Acc: 0.9280\n",
      "Saved model to out/trec/graphsage_bi_fuse_dependency_ckpt_1729184049.976415/params.saved\n",
      "Epoch: [8 / 10] | Time: 3.72s | Loss: 0.2406 |Train Acc: 0.9135 | Val Acc: 0.9280\n",
      "Saved model to out/trec/graphsage_bi_fuse_dependency_ckpt_1729184049.976415/params.saved\n",
      "Epoch: [9 / 10] | Time: 3.73s | Loss: 0.2242 |Train Acc: 0.9180 | Val Acc: 0.9440\n",
      "Saved model to out/trec/graphsage_bi_fuse_dependency_ckpt_1729184049.976415/params.saved\n",
      "Epoch: [10 / 10] | Time: 3.74s | Loss: 0.2183 |Train Acc: 0.9211 | Val Acc: 0.9480\n",
      "Saved model to out/trec/graphsage_bi_fuse_dependency_ckpt_1729184049.976415/params.saved\n",
      "Test examples: 250.0 | Time: 0.10s |  Test Acc: 0.9360\n",
      "Total runtime: 75.63s\n",
      "val acc: 0.948, test acc: 0.936\n"
     ]
    }
   ],
   "source": [
    "t0 = time.time()\n",
    "\n",
    "val_acc = runner.train()\n",
    "test_acc = runner.test()\n",
    "\n",
    "runtime = time.time() - t0\n",
    "print('Total runtime: {:.2f}s'.format(runtime))\n",
    "runner.logger.write('Total runtime: {:.2f}s\\n'.format(runtime))\n",
    "runner.logger.close()\n",
    "\n",
    "print('val acc: {}, test acc: {}'.format(val_acc, test_acc))"
   ]
  },
  {
   "cell_type": "code",
   "execution_count": 104,
   "id": "375ae4ab",
   "metadata": {},
   "outputs": [
    {
     "data": {
      "text/plain": [
       "tensor([5, 4, 3, 1, 5, 5, 2, 2, 1, 1, 4, 3, 5, 3, 5, 5, 2, 3, 1, 5, 3, 1, 4, 1,\n",
       "        1, 3, 1, 2, 4, 4, 5, 4, 1, 5, 5, 5, 4, 5, 5, 5, 2, 1, 1, 1, 2, 2, 5, 1,\n",
       "        5, 3])"
      ]
     },
     "execution_count": 104,
     "metadata": {},
     "output_type": "execute_result"
    }
   ],
   "source": [
    "logits = model.inference_forward(batch)\n",
    "#torch.softmax(logits, dim=1).detach().numpy().round(2)\n",
    "pred = logits.argmax(1)\n",
    "pred"
   ]
  },
  {
   "cell_type": "code",
   "execution_count": 106,
   "id": "e6cdb0ed",
   "metadata": {},
   "outputs": [
    {
     "data": {
      "text/plain": [
       "tensor([5, 4, 3, 1, 5, 5, 3, 2, 1, 1, 4, 3, 5, 3, 5, 5, 2, 3, 1, 5, 3, 1, 4, 1,\n",
       "        1, 3, 1, 4, 4, 4, 5, 4, 1, 5, 5, 5, 4, 5, 5, 5, 2, 1, 1, 1, 2, 2, 5, 1,\n",
       "        5, 3])"
      ]
     },
     "execution_count": 106,
     "metadata": {},
     "output_type": "execute_result"
    }
   ],
   "source": [
    "batch['tgt_tensor']"
   ]
  },
  {
   "cell_type": "code",
   "execution_count": 107,
   "id": "4dfadb28",
   "metadata": {},
   "outputs": [
    {
     "data": {
      "text/plain": [
       "tensor(0.9600)"
      ]
     },
     "execution_count": 107,
     "metadata": {},
     "output_type": "execute_result"
    }
   ],
   "source": [
    "sum(pred == batch['tgt_tensor']) / len(pred)"
   ]
  },
  {
   "cell_type": "code",
   "execution_count": null,
   "id": "0c4987fe",
   "metadata": {},
   "outputs": [],
   "source": []
  }
 ],
 "metadata": {
  "kernelspec": {
   "display_name": "Python 3 (ipykernel)",
   "language": "python",
   "name": "python3"
  },
  "language_info": {
   "codemirror_mode": {
    "name": "ipython",
    "version": 3
   },
   "file_extension": ".py",
   "mimetype": "text/x-python",
   "name": "python",
   "nbconvert_exporter": "python",
   "pygments_lexer": "ipython3",
   "version": "3.10.15"
  }
 },
 "nbformat": 4,
 "nbformat_minor": 5
}
